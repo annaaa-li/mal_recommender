{
 "cells": [
  {
   "cell_type": "code",
   "execution_count": 8,
   "id": "fb244413",
   "metadata": {
    "scrolled": true
   },
   "outputs": [
    {
     "name": "stdout",
     "output_type": "stream",
     "text": [
      "Requirement already satisfied: matplotlib in c:\\users\\annad\\anaconda3\\lib\\site-packages (3.5.1)\n",
      "Requirement already satisfied: pillow>=6.2.0 in c:\\users\\annad\\anaconda3\\lib\\site-packages (from matplotlib) (9.0.1)\n",
      "Requirement already satisfied: fonttools>=4.22.0 in c:\\users\\annad\\anaconda3\\lib\\site-packages (from matplotlib) (4.25.0)\n",
      "Requirement already satisfied: kiwisolver>=1.0.1 in c:\\users\\annad\\anaconda3\\lib\\site-packages (from matplotlib) (1.3.2)\n",
      "Requirement already satisfied: pyparsing>=2.2.1 in c:\\users\\annad\\anaconda3\\lib\\site-packages (from matplotlib) (3.0.4)\n",
      "Requirement already satisfied: python-dateutil>=2.7 in c:\\users\\annad\\anaconda3\\lib\\site-packages (from matplotlib) (2.8.2)\n",
      "Requirement already satisfied: numpy>=1.17 in c:\\users\\annad\\anaconda3\\lib\\site-packages (from matplotlib) (1.21.5)\n",
      "Requirement already satisfied: cycler>=0.10 in c:\\users\\annad\\anaconda3\\lib\\site-packages (from matplotlib) (0.11.0)\n",
      "Requirement already satisfied: packaging>=20.0 in c:\\users\\annad\\anaconda3\\lib\\site-packages (from matplotlib) (21.3)\n",
      "Requirement already satisfied: six>=1.5 in c:\\users\\annad\\anaconda3\\lib\\site-packages (from python-dateutil>=2.7->matplotlib) (1.16.0)\n",
      "Note: you may need to restart the kernel to use updated packages.\n"
     ]
    }
   ],
   "source": [
    "pip install matplotlib"
   ]
  },
  {
   "cell_type": "code",
   "execution_count": 20,
   "id": "31d647b7",
   "metadata": {},
   "outputs": [],
   "source": [
    "import pandas as pd\n",
    "import matplotlib.pyplot as plt\n",
    "import numpy as np\n",
    "from matplotlib import colors\n",
    "from matplotlib.ticker import PercentFormatter\n",
    "plt.style.use('ggplot')"
   ]
  },
  {
   "cell_type": "code",
   "execution_count": 112,
   "id": "d2f6590e",
   "metadata": {},
   "outputs": [],
   "source": [
    "anime_fulldf = pd.read_csv(\"C://Users/annad/OneDrive/Documents/JNote/animes90to23.csv\")"
   ]
  },
  {
   "cell_type": "code",
   "execution_count": 105,
   "id": "2677bd72",
   "metadata": {},
   "outputs": [],
   "source": [
    "ratings = pd.read_csv(\"C://Users/annad/OneDrive/Documents/JNote/rating.csv\")"
   ]
  },
  {
   "cell_type": "markdown",
   "id": "ab62b400",
   "metadata": {},
   "source": [
    "## Filtering the Anime df"
   ]
  },
  {
   "cell_type": "markdown",
   "id": "5a3fa7be",
   "metadata": {},
   "source": [
    "Filtering for unique \"media_types\" gives an array with the following types of entries: 'movie', 'ova', 'tv', 'special', 'music', 'ona'. In general OVAs and specials are additional content for a pre-existing show so included these would be redundant. It also is reasonable to ommit music entries."
   ]
  },
  {
   "cell_type": "code",
   "execution_count": 113,
   "id": "b03604dd",
   "metadata": {},
   "outputs": [
    {
     "data": {
      "text/plain": [
       "array(['movie', 'ova', 'tv', 'special', 'music', 'ona'], dtype=object)"
      ]
     },
     "execution_count": 113,
     "metadata": {},
     "output_type": "execute_result"
    }
   ],
   "source": [
    "anime_fulldf[\"media_type\"].unique()"
   ]
  },
  {
   "cell_type": "markdown",
   "id": "a05e0a85",
   "metadata": {},
   "source": [
    "For all entries the nsfw column has value \"white\" so it will also be ommitted."
   ]
  },
  {
   "cell_type": "code",
   "execution_count": 126,
   "id": "6363dd61",
   "metadata": {},
   "outputs": [
    {
     "data": {
      "text/plain": [
       "array(['white'], dtype=object)"
      ]
     },
     "execution_count": 126,
     "metadata": {},
     "output_type": "execute_result"
    }
   ],
   "source": [
    "anime_fulldf[\"nsfw\"].unique()"
   ]
  },
  {
   "cell_type": "markdown",
   "id": "b53c17a1",
   "metadata": {},
   "source": [
    "While having a large data set is often good, there are many obscure entries that would be unavailable to watch online or wouldn't be of interest to the vast majority of viewers. These obscure shows also are more likely to be missing a synopsis, reviews, and ratings. For simplicity this project will only be considering TV shows, ONAs, and movies with 5,000+ members. This leaves 4697 entries."
   ]
  },
  {
   "cell_type": "code",
   "execution_count": 132,
   "id": "e4361457",
   "metadata": {
    "scrolled": true
   },
   "outputs": [],
   "source": [
    "anime = anime_fulldf[anime_fulldf['media_type'].isin(['tv', 'movie', 'ona'])].loc[anime_fulldf['num_list_users'] >= 5000].reset_index()"
   ]
  },
  {
   "cell_type": "code",
   "execution_count": 127,
   "id": "7a497038",
   "metadata": {
    "scrolled": false
   },
   "outputs": [],
   "source": [
    "# reformatting the df so all genres are in one column\n",
    "genres = anime[\"genre1\"]+\", \"+anime[\"genre2\"]+\", \"+anime[\"genre3\"]+\", \"+anime[\"genre4\"]+\", \"+ anime[\"genre5\"]+\", \"+ anime[\"genre6\"]+\", \"+ anime[\"genre7\"]\n",
    "genres.replace(\", na\", \"\", regex=True, inplace=True)\n",
    "anime_ref =anime.drop(df.columns[[0,6,10,11, 12, 13, 14, 15, 16]], axis=1)\n",
    "anime_ref['genres'] = genres.tolist()"
   ]
  },
  {
   "cell_type": "code",
   "execution_count": 129,
   "id": "ac788fa2",
   "metadata": {
    "scrolled": true
   },
   "outputs": [
    {
     "data": {
      "text/html": [
       "<div>\n",
       "<style scoped>\n",
       "    .dataframe tbody tr th:only-of-type {\n",
       "        vertical-align: middle;\n",
       "    }\n",
       "\n",
       "    .dataframe tbody tr th {\n",
       "        vertical-align: top;\n",
       "    }\n",
       "\n",
       "    .dataframe thead th {\n",
       "        text-align: right;\n",
       "    }\n",
       "</style>\n",
       "<table border=\"1\" class=\"dataframe\">\n",
       "  <thead>\n",
       "    <tr style=\"text-align: right;\">\n",
       "      <th></th>\n",
       "      <th>index</th>\n",
       "      <th>anime_id</th>\n",
       "      <th>anime_name</th>\n",
       "      <th>anime_start_year</th>\n",
       "      <th>synopsis</th>\n",
       "      <th>num_list_users</th>\n",
       "      <th>num_episodes</th>\n",
       "      <th>rating</th>\n",
       "      <th>media_type</th>\n",
       "      <th>genres</th>\n",
       "    </tr>\n",
       "  </thead>\n",
       "  <tbody>\n",
       "    <tr>\n",
       "      <th>0</th>\n",
       "      <td>0</td>\n",
       "      <td>895</td>\n",
       "      <td>Dragon Ball Z Movie 02: Kono Yo de Ichiban Tsu...</td>\n",
       "      <td>1990</td>\n",
       "      <td>In his laboratory, biotechnology expert Dr. Ko...</td>\n",
       "      <td>111205</td>\n",
       "      <td>1</td>\n",
       "      <td>pg_13</td>\n",
       "      <td>movie</td>\n",
       "      <td>Action, Adventure, Comedy, Fantasy, Sci-Fi, Sh...</td>\n",
       "    </tr>\n",
       "    <tr>\n",
       "      <th>1</th>\n",
       "      <td>2</td>\n",
       "      <td>1375</td>\n",
       "      <td>Watashi no Ashinaga Ojisan</td>\n",
       "      <td>1990</td>\n",
       "      <td>Daddy Long Legs is based on the novel of the s...</td>\n",
       "      <td>16367</td>\n",
       "      <td>40</td>\n",
       "      <td>g</td>\n",
       "      <td>tv</td>\n",
       "      <td>Comedy, Historical, Romance, School, Slice of ...</td>\n",
       "    </tr>\n",
       "    <tr>\n",
       "      <th>2</th>\n",
       "      <td>3</td>\n",
       "      <td>1261</td>\n",
       "      <td>Kyattou Ninden Teyandee</td>\n",
       "      <td>1990</td>\n",
       "      <td>In the city of Edoropolis, hundreds of mechani...</td>\n",
       "      <td>13370</td>\n",
       "      <td>54</td>\n",
       "      <td>g</td>\n",
       "      <td>tv</td>\n",
       "      <td>Action, Anthropomorphic, Comedy, Mecha, Sci-Fi...</td>\n",
       "    </tr>\n",
       "    <tr>\n",
       "      <th>3</th>\n",
       "      <td>4</td>\n",
       "      <td>951</td>\n",
       "      <td>Chibi Maruko-chan</td>\n",
       "      <td>1990</td>\n",
       "      <td>Momoko Sakura is an elementary school student ...</td>\n",
       "      <td>11986</td>\n",
       "      <td>142</td>\n",
       "      <td>g</td>\n",
       "      <td>tv</td>\n",
       "      <td>Comedy, Shoujo, Slice of Life</td>\n",
       "    </tr>\n",
       "    <tr>\n",
       "      <th>4</th>\n",
       "      <td>8</td>\n",
       "      <td>2677</td>\n",
       "      <td>Doraemon Movie 11: Nobita to Animal Planet</td>\n",
       "      <td>1990</td>\n",
       "      <td>Nobita went to a world of animals through the ...</td>\n",
       "      <td>7317</td>\n",
       "      <td>1</td>\n",
       "      <td>pg</td>\n",
       "      <td>movie</td>\n",
       "      <td>Adventure, Comedy, Fantasy, Kids, Sci-Fi, Shounen</td>\n",
       "    </tr>\n",
       "    <tr>\n",
       "      <th>...</th>\n",
       "      <td>...</td>\n",
       "      <td>...</td>\n",
       "      <td>...</td>\n",
       "      <td>...</td>\n",
       "      <td>...</td>\n",
       "      <td>...</td>\n",
       "      <td>...</td>\n",
       "      <td>...</td>\n",
       "      <td>...</td>\n",
       "      <td>...</td>\n",
       "    </tr>\n",
       "    <tr>\n",
       "      <th>4692</th>\n",
       "      <td>16681</td>\n",
       "      <td>54122</td>\n",
       "      <td>Ooyukiumi no Kaina: Hoshi no Kenja</td>\n",
       "      <td>2023</td>\n",
       "      <td>A world blanketed in an endless and ever-growi...</td>\n",
       "      <td>6143</td>\n",
       "      <td>1</td>\n",
       "      <td>pg_13</td>\n",
       "      <td>movie</td>\n",
       "      <td>Fantasy, Shounen</td>\n",
       "    </tr>\n",
       "    <tr>\n",
       "      <th>4693</th>\n",
       "      <td>16682</td>\n",
       "      <td>54858</td>\n",
       "      <td>Hypnosis Mic: Division Rap Battle - Rhyme Anima +</td>\n",
       "      <td>2023</td>\n",
       "      <td>Second season of Hypnosis Mic: Division Rap Ba...</td>\n",
       "      <td>5872</td>\n",
       "      <td>0</td>\n",
       "      <td>r</td>\n",
       "      <td>tv</td>\n",
       "      <td>Adult Cast, Drama, Music</td>\n",
       "    </tr>\n",
       "    <tr>\n",
       "      <th>4694</th>\n",
       "      <td>16683</td>\n",
       "      <td>55149</td>\n",
       "      <td>Komada Jouryuusho e Youkoso</td>\n",
       "      <td>2023</td>\n",
       "      <td>Koutarou visits Komada Distillery for a projec...</td>\n",
       "      <td>5789</td>\n",
       "      <td>1</td>\n",
       "      <td>na</td>\n",
       "      <td>movie</td>\n",
       "      <td>Gourmet, Workplace</td>\n",
       "    </tr>\n",
       "    <tr>\n",
       "      <th>4695</th>\n",
       "      <td>16684</td>\n",
       "      <td>49523</td>\n",
       "      <td>Digimon Adventure 02: The Beginning</td>\n",
       "      <td>2023</td>\n",
       "      <td>NaN</td>\n",
       "      <td>5585</td>\n",
       "      <td>1</td>\n",
       "      <td>pg</td>\n",
       "      <td>movie</td>\n",
       "      <td>Action, Adventure, Comedy, Drama, Fantasy</td>\n",
       "    </tr>\n",
       "    <tr>\n",
       "      <th>4696</th>\n",
       "      <td>16685</td>\n",
       "      <td>53633</td>\n",
       "      <td>Bullbuster</td>\n",
       "      <td>2023</td>\n",
       "      <td>A young engineer, Tetsurou Okino, is transferr...</td>\n",
       "      <td>6125</td>\n",
       "      <td>12</td>\n",
       "      <td>pg_13</td>\n",
       "      <td>tv</td>\n",
       "      <td>Action, Adult Cast, Mecha, Sci-Fi, Workplace</td>\n",
       "    </tr>\n",
       "  </tbody>\n",
       "</table>\n",
       "<p>4697 rows × 10 columns</p>\n",
       "</div>"
      ],
      "text/plain": [
       "      index  anime_id                                         anime_name  \\\n",
       "0         0       895  Dragon Ball Z Movie 02: Kono Yo de Ichiban Tsu...   \n",
       "1         2      1375                         Watashi no Ashinaga Ojisan   \n",
       "2         3      1261                            Kyattou Ninden Teyandee   \n",
       "3         4       951                                  Chibi Maruko-chan   \n",
       "4         8      2677         Doraemon Movie 11: Nobita to Animal Planet   \n",
       "...     ...       ...                                                ...   \n",
       "4692  16681     54122                 Ooyukiumi no Kaina: Hoshi no Kenja   \n",
       "4693  16682     54858  Hypnosis Mic: Division Rap Battle - Rhyme Anima +   \n",
       "4694  16683     55149                        Komada Jouryuusho e Youkoso   \n",
       "4695  16684     49523                Digimon Adventure 02: The Beginning   \n",
       "4696  16685     53633                                         Bullbuster   \n",
       "\n",
       "      anime_start_year                                           synopsis  \\\n",
       "0                 1990  In his laboratory, biotechnology expert Dr. Ko...   \n",
       "1                 1990  Daddy Long Legs is based on the novel of the s...   \n",
       "2                 1990  In the city of Edoropolis, hundreds of mechani...   \n",
       "3                 1990  Momoko Sakura is an elementary school student ...   \n",
       "4                 1990  Nobita went to a world of animals through the ...   \n",
       "...                ...                                                ...   \n",
       "4692              2023  A world blanketed in an endless and ever-growi...   \n",
       "4693              2023  Second season of Hypnosis Mic: Division Rap Ba...   \n",
       "4694              2023  Koutarou visits Komada Distillery for a projec...   \n",
       "4695              2023                                                NaN   \n",
       "4696              2023  A young engineer, Tetsurou Okino, is transferr...   \n",
       "\n",
       "      num_list_users  num_episodes rating media_type  \\\n",
       "0             111205             1  pg_13      movie   \n",
       "1              16367            40      g         tv   \n",
       "2              13370            54      g         tv   \n",
       "3              11986           142      g         tv   \n",
       "4               7317             1     pg      movie   \n",
       "...              ...           ...    ...        ...   \n",
       "4692            6143             1  pg_13      movie   \n",
       "4693            5872             0      r         tv   \n",
       "4694            5789             1     na      movie   \n",
       "4695            5585             1     pg      movie   \n",
       "4696            6125            12  pg_13         tv   \n",
       "\n",
       "                                                 genres  \n",
       "0     Action, Adventure, Comedy, Fantasy, Sci-Fi, Sh...  \n",
       "1     Comedy, Historical, Romance, School, Slice of ...  \n",
       "2     Action, Anthropomorphic, Comedy, Mecha, Sci-Fi...  \n",
       "3                         Comedy, Shoujo, Slice of Life  \n",
       "4     Adventure, Comedy, Fantasy, Kids, Sci-Fi, Shounen  \n",
       "...                                                 ...  \n",
       "4692                                   Fantasy, Shounen  \n",
       "4693                           Adult Cast, Drama, Music  \n",
       "4694                                 Gourmet, Workplace  \n",
       "4695          Action, Adventure, Comedy, Drama, Fantasy  \n",
       "4696       Action, Adult Cast, Mecha, Sci-Fi, Workplace  \n",
       "\n",
       "[4697 rows x 10 columns]"
      ]
     },
     "execution_count": 129,
     "metadata": {},
     "output_type": "execute_result"
    }
   ],
   "source": [
    "anime_ref"
   ]
  },
  {
   "cell_type": "markdown",
   "id": "3370e916",
   "metadata": {},
   "source": [
    "## Missing Values"
   ]
  },
  {
   "cell_type": "markdown",
   "id": "ff7aac61",
   "metadata": {},
   "source": [
    "Only the synopsis is missing for <1% of all entries."
   ]
  },
  {
   "cell_type": "code",
   "execution_count": 130,
   "id": "553d3a94",
   "metadata": {
    "scrolled": true
   },
   "outputs": [
    {
     "name": "stdout",
     "output_type": "stream",
     "text": [
      "Anime missing values (%):\n",
      "\n",
      "synopsis            0.32\n",
      "index               0.00\n",
      "anime_id            0.00\n",
      "anime_name          0.00\n",
      "anime_start_year    0.00\n",
      "num_list_users      0.00\n",
      "num_episodes        0.00\n",
      "rating              0.00\n",
      "media_type          0.00\n",
      "genres              0.00\n",
      "dtype: float64\n",
      "\n",
      " ************************************************** \n",
      "\n",
      "Rating missing values (%):\n",
      "\n",
      "user_id     0.0\n",
      "anime_id    0.0\n",
      "rating      0.0\n",
      "dtype: float64\n"
     ]
    }
   ],
   "source": [
    "# Check for missing values\n",
    "print(\"Anime missing values (%):\\n\")\n",
    "print(round(anime_ref.isnull().sum().sort_values(ascending=False)/len(anime_ref.index),4)*100) \n",
    "print(\"\\n\",\"*\"*50,\"\\n\\nRating missing values (%):\\n\")\n",
    "print(round(ratings.isnull().sum().sort_values(ascending=False)/len(ratings.index),4)*100)"
   ]
  },
  {
   "cell_type": "markdown",
   "id": "67c18f89",
   "metadata": {},
   "source": [
    "In comparison almost 10% of all entries are missing a synopsis in the original dataset"
   ]
  },
  {
   "cell_type": "code",
   "execution_count": 117,
   "id": "595b63a8",
   "metadata": {
    "scrolled": true
   },
   "outputs": [
    {
     "name": "stdout",
     "output_type": "stream",
     "text": [
      "Anime missing values (%):\n",
      "\n",
      "synopsis            9.63\n",
      "Unnamed: 0          0.00\n",
      "media_type          0.00\n",
      "genre6              0.00\n",
      "genre5              0.00\n",
      "genre4              0.00\n",
      "genre3              0.00\n",
      "genre2              0.00\n",
      "genre1              0.00\n",
      "rating              0.00\n",
      "anime_id            0.00\n",
      "num_episodes        0.00\n",
      "nsfw                0.00\n",
      "num_list_users      0.00\n",
      "anime_start_year    0.00\n",
      "anime_name          0.00\n",
      "genre7              0.00\n",
      "dtype: float64\n"
     ]
    }
   ],
   "source": [
    "# Compare missing values in the full anime dataframe\n",
    "print(\"Anime missing values (%):\\n\")\n",
    "print(round(anime_fulldf.isnull().sum().sort_values(ascending=False)/len(anime_fulldf.index),4)*100) "
   ]
  },
  {
   "cell_type": "markdown",
   "id": "a5efe18d",
   "metadata": {},
   "source": [
    "## Histogram of user ratings"
   ]
  },
  {
   "cell_type": "markdown",
   "id": "17a865a4",
   "metadata": {},
   "source": [
    "Ignoring the -1 (N/A) ratings shows that the histogram is very left skewed. There are few ratings that have scores less than 4 and users tend to give ratings between 7 and 10."
   ]
  },
  {
   "cell_type": "code",
   "execution_count": 22,
   "id": "09f989e1",
   "metadata": {},
   "outputs": [
    {
     "data": {
      "image/png": "[encoded data removed]",
      "text/plain": [
       "<Figure size 504x360 with 1 Axes>"
      ]
     },
     "metadata": {},
     "output_type": "display_data"
    }
   ],
   "source": [
    "axs = plt.subplots(1, 1, figsize =(7, 5), \n",
    "                        tight_layout = True)\n",
    "\n",
    "plt.hist(rating_df[\"rating\"], bins= 12)\n",
    "plt.show()"
   ]
  }
 ],
 "metadata": {
  "kernelspec": {
   "display_name": "Python 3 (ipykernel)",
   "language": "python",
   "name": "python3"
  },
  "language_info": {
   "codemirror_mode": {
    "name": "ipython",
    "version": 3
   },
   "file_extension": ".py",
   "mimetype": "text/x-python",
   "name": "python",
   "nbconvert_exporter": "python",
   "pygments_lexer": "ipython3",
   "version": "3.9.12"
  }
 },
 "nbformat": 4,
 "nbformat_minor": 5
}
